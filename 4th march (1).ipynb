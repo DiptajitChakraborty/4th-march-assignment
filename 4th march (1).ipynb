{
 "cells": [
  {
   "cell_type": "code",
   "execution_count": 2,
   "id": "fed97fe0-fb18-4ebe-adcd-ea0fb85cad23",
   "metadata": {},
   "outputs": [],
   "source": [
    "#Q1. Load the \"titanic\" dataset using the load_dataset function of seaborn. Use Plotly express to plot a scatter plot for age and fare columns in the titanic dataset.\n",
    "\n",
    "#Ans:"
   ]
  },
  {
   "cell_type": "markdown",
   "id": "742ab21d-565b-4bc2-a55b-98a8353a2868",
   "metadata": {},
   "source": [
    "import plotly.graph_objects as go\n",
    "import seaborn as sns\n",
    "titanic  = sns.load_dataset('titanic')\n",
    "fig = go.Figure()\n",
    "fig.add_trace(go.Scatter(x = titanic.age , y = titanic.fare , mode = 'markers'))\n",
    "fig.show()"
   ]
  },
  {
   "cell_type": "markdown",
   "id": "bb7f2e2b-9d2c-4b33-ab3e-00dabee744ac",
   "metadata": {},
   "source": [
    "Output  = ['https://orange-pharmacist-bekjw.pwskills.app/files/work/newplot%20(1).png?_xsrf=2%7C7d390e17%7C2a91b609f8ef9421197816fad96e27e8%7C1683470865']"
   ]
  },
  {
   "cell_type": "markdown",
   "id": "096a11d8-a770-47d1-a47e-5cd734da033a",
   "metadata": {},
   "source": [
    "Q2. Using the tips dataset in the Plotly library, plot a box plot using Plotly express.\n",
    "Ans:\n",
    "fig = go.Figure()\n",
    "for col in df:\n",
    "  fig.add_trace(go.Box(y=df[col].values, name=df[col].name)) \n",
    "fig.show()"
   ]
  },
  {
   "cell_type": "markdown",
   "id": "162baafc-8d63-4610-bb21-b8c469aa3807",
   "metadata": {},
   "source": [
    "Output = ['https://orange-pharmacist-bekjw.pwskills.app/files/work/newplot%20(2).png?_xsrf=2%7C7d390e17%7C2a91b609f8ef9421197816fad96e27e8%7C1683470865']"
   ]
  },
  {
   "cell_type": "markdown",
   "id": "3ae32ab1-5f2f-4bee-ae60-8cb94e6c0f34",
   "metadata": {},
   "source": [
    "Q3. Using the tips dataset in the Plotly library, Plot a histogram for x= \"sex\" and y=\"total_bill\" column in\n",
    "the tips dataset. Also, use the \"smoker\" column with the pattern_shape parameter and the \"day\"\n",
    "column with the color parameter."
   ]
  },
  {
   "cell_type": "markdown",
   "id": "5330f6f7-21dc-4506-9e13-8b3c3969e61e",
   "metadata": {},
   "source": [
    "Ans:\n",
    "fig = go.Figure(data = [go.Histogram(x = tips.sex , y = tips.total_bill )])\n",
    "fig.show()"
   ]
  },
  {
   "cell_type": "markdown",
   "id": "f3376b8a-893c-424a-849e-e4c92991b9e5",
   "metadata": {},
   "source": [
    "Output = ['https://orange-pharmacist-bekjw.pwskills.app/files/work/newplot%20(3).png?_xsrf=2%7C7d390e17%7C2a91b609f8ef9421197816fad96e27e8%7C1683470865']"
   ]
  },
  {
   "cell_type": "markdown",
   "id": "a8666aae-d860-4e3e-9187-e22521f3d526",
   "metadata": {},
   "source": [
    "import plotly.express as px\n",
    "df = px.data.tips()\n",
    "fig = px.histogram(df, x=\"sex\", y=\"total_bill\", color=\"sex\", pattern_shape=\"smoker\")\n",
    "fig.show()"
   ]
  },
  {
   "cell_type": "markdown",
   "id": "070a0134-9fa4-4a81-9f78-ac86b1406266",
   "metadata": {},
   "source": [
    "Ans:\n",
    "Output = ['https://orange-pharmacist-bekjw.pwskills.app/files/work/newplot%20(4).png?_xsrf=2%7C7d390e17%7C2a91b609f8ef9421197816fad96e27e8%7C1683470865']"
   ]
  },
  {
   "cell_type": "markdown",
   "id": "8c927edf-e2e9-470b-9e88-3fbc1335d153",
   "metadata": {},
   "source": [
    "Q4. Using the iris dataset in the Plotly library, Plot a scatter matrix plot, using the \"species\" column for\n",
    "the color parameter.\n",
    "Note: Use \"sepal_length\", \"sepal_width\", \"petal_length\", \"petal_width\" columns only with the\n",
    "dimensions parameter."
   ]
  },
  {
   "cell_type": "markdown",
   "id": "8bd265d3-560a-46c8-9ee8-1ab013490434",
   "metadata": {},
   "source": [
    "Ans:\n",
    "import plotly.express as px\n",
    "df = px.data.iris()\n",
    "fig = px.scatter_matrix(df,dimensions=[\"sepal_length\", \"sepal_width\", \"petal_length\", \"petal_width\"],color=\"species\")\n",
    "fig.show()"
   ]
  },
  {
   "cell_type": "markdown",
   "id": "bcc00f34-b092-4eff-af84-0fb65fe6c9eb",
   "metadata": {},
   "source": [
    "Output = ['https://orange-pharmacist-bekjw.pwskills.app/files/work/newplot%20(5).png?_xsrf=2%7C7d390e17%7C2a91b609f8ef9421197816fad96e27e8%7C1683470865']"
   ]
  },
  {
   "cell_type": "markdown",
   "id": "b3a5e2bd-05dd-4d2d-9bcd-247aa570b297",
   "metadata": {},
   "source": [
    "Q5. What is Distplot? Using Plotly express, plot a distplot."
   ]
  },
  {
   "cell_type": "markdown",
   "id": "adf929d2-f4f0-4ee3-be65-9439a86394c7",
   "metadata": {},
   "source": [
    "Ans:A Distplot or distribution plot, depicts the variation in the data distribution."
   ]
  },
  {
   "cell_type": "markdown",
   "id": "05219a6e-1759-4619-97dc-1df0a93469ed",
   "metadata": {},
   "source": [
    "import plotly.figure_factory as ff\n",
    "import numpy as np\n",
    "a = np.random.randn(200) \n",
    "b = np.random.randn(200)\n",
    "c = np.random.randn(200) \n",
    "d = np.random.randn(200) \n",
    "hist_data = [a,b,c,d]\n",
    "group_labels = ['grp1','grp2','grp3','grp4'] \n",
    "fig = ff.create_distplot(hist_data, group_labels)\n",
    "fig.show()"
   ]
  },
  {
   "cell_type": "markdown",
   "id": "07575811-1ab8-420a-9a53-fd3d8f4a0655",
   "metadata": {},
   "source": [
    "output = ['https://orange-pharmacist-bekjw.pwskills.app/files/work/newplot%20(6).png?_xsrf=2%7C7d390e17%7C2a91b609f8ef9421197816fad96e27e8%7C1683470865']"
   ]
  },
  {
   "cell_type": "code",
   "execution_count": null,
   "id": "30a47d63-59b7-4be5-bbb6-17089920d6aa",
   "metadata": {},
   "outputs": [],
   "source": []
  }
 ],
 "metadata": {
  "kernelspec": {
   "display_name": "Python 3 (ipykernel)",
   "language": "python",
   "name": "python3"
  },
  "language_info": {
   "codemirror_mode": {
    "name": "ipython",
    "version": 3
   },
   "file_extension": ".py",
   "mimetype": "text/x-python",
   "name": "python",
   "nbconvert_exporter": "python",
   "pygments_lexer": "ipython3",
   "version": "3.10.8"
  }
 },
 "nbformat": 4,
 "nbformat_minor": 5
}
